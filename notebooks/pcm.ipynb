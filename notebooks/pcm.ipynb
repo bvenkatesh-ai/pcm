{
 "cells": [
  {
   "cell_type": "markdown",
   "id": "a17f1545",
   "metadata": {},
   "source": [
    "<h2 align='center'>Phase Change Material</h2>"
   ]
  },
  {
   "cell_type": "markdown",
   "id": "27b417c6",
   "metadata": {},
   "source": [
    "Import the required libraries"
   ]
  },
  {
   "cell_type": "code",
   "execution_count": 1,
   "id": "0be6a7b5",
   "metadata": {},
   "outputs": [],
   "source": [
    "import pandas as pd\n",
    "import matplotlib.pyplot as plt\n",
    "import numpy as np\n",
    "import math\n",
    "from scipy import integrate\n",
    "import seaborn as sns"
   ]
  },
  {
   "cell_type": "code",
   "execution_count": 54,
   "id": "f8f466f4",
   "metadata": {},
   "outputs": [],
   "source": [
    "# Load the dataset\n",
    "df=pd.read_excel('../data/pcmdata.xlsx')"
   ]
  },
  {
   "cell_type": "code",
   "execution_count": 3,
   "id": "6c2bdf5e",
   "metadata": {},
   "outputs": [
    {
     "name": "stdout",
     "output_type": "stream",
     "text": [
      "(15, 11)\n"
     ]
    },
    {
     "data": {
      "text/html": [
       "<div>\n",
       "<style scoped>\n",
       "    .dataframe tbody tr th:only-of-type {\n",
       "        vertical-align: middle;\n",
       "    }\n",
       "\n",
       "    .dataframe tbody tr th {\n",
       "        vertical-align: top;\n",
       "    }\n",
       "\n",
       "    .dataframe thead th {\n",
       "        text-align: right;\n",
       "    }\n",
       "</style>\n",
       "<table border=\"1\" class=\"dataframe\">\n",
       "  <thead>\n",
       "    <tr style=\"text-align: right;\">\n",
       "      <th></th>\n",
       "      <th>pcm</th>\n",
       "      <th>molar_mass</th>\n",
       "      <th>T_fus</th>\n",
       "      <th>Del_H</th>\n",
       "      <th>cpsa</th>\n",
       "      <th>cpsb</th>\n",
       "      <th>cpsc</th>\n",
       "      <th>cpla</th>\n",
       "      <th>cplb</th>\n",
       "      <th>cplc</th>\n",
       "      <th>cpld</th>\n",
       "    </tr>\n",
       "  </thead>\n",
       "  <tbody>\n",
       "    <tr>\n",
       "      <th>0</th>\n",
       "      <td>Heptanoic (enanthic) acid</td>\n",
       "      <td>130.18</td>\n",
       "      <td>-7.4</td>\n",
       "      <td>107</td>\n",
       "      <td>164.213</td>\n",
       "      <td>-1.1939</td>\n",
       "      <td>0.006150</td>\n",
       "      <td>72.739</td>\n",
       "      <td>1.36180</td>\n",
       "      <td>-0.003304</td>\n",
       "      <td>0.000003</td>\n",
       "    </tr>\n",
       "    <tr>\n",
       "      <th>1</th>\n",
       "      <td>Nonanoic (pelargonic) acid</td>\n",
       "      <td>156.24</td>\n",
       "      <td>12.3</td>\n",
       "      <td>127</td>\n",
       "      <td>9.000</td>\n",
       "      <td>1.4120</td>\n",
       "      <td>0.000000</td>\n",
       "      <td>184.223</td>\n",
       "      <td>1.21100</td>\n",
       "      <td>-0.002921</td>\n",
       "      <td>0.000003</td>\n",
       "    </tr>\n",
       "    <tr>\n",
       "      <th>2</th>\n",
       "      <td>Oleic (elainic) acid</td>\n",
       "      <td>282.47</td>\n",
       "      <td>13.5</td>\n",
       "      <td>140</td>\n",
       "      <td>-77.434</td>\n",
       "      <td>1.6642</td>\n",
       "      <td>0.000000</td>\n",
       "      <td>278.686</td>\n",
       "      <td>2.54340</td>\n",
       "      <td>-0.005436</td>\n",
       "      <td>0.000005</td>\n",
       "    </tr>\n",
       "    <tr>\n",
       "      <th>3</th>\n",
       "      <td>Octanoic (caprylic) acid</td>\n",
       "      <td>144.21</td>\n",
       "      <td>16.5</td>\n",
       "      <td>148</td>\n",
       "      <td>241.472</td>\n",
       "      <td>-1.6054</td>\n",
       "      <td>0.006494</td>\n",
       "      <td>184.525</td>\n",
       "      <td>0.99722</td>\n",
       "      <td>-0.002423</td>\n",
       "      <td>0.000003</td>\n",
       "    </tr>\n",
       "    <tr>\n",
       "      <th>4</th>\n",
       "      <td>Undecanoic (undecylic) acid</td>\n",
       "      <td>186.29</td>\n",
       "      <td>28.4</td>\n",
       "      <td>139</td>\n",
       "      <td>11.000</td>\n",
       "      <td>1.4556</td>\n",
       "      <td>0.000000</td>\n",
       "      <td>73.094</td>\n",
       "      <td>2.33810</td>\n",
       "      <td>-0.005291</td>\n",
       "      <td>0.000005</td>\n",
       "    </tr>\n",
       "  </tbody>\n",
       "</table>\n",
       "</div>"
      ],
      "text/plain": [
       "                           pcm  molar_mass  T_fus  Del_H     cpsa    cpsb  \\\n",
       "0    Heptanoic (enanthic) acid      130.18   -7.4    107  164.213 -1.1939   \n",
       "1   Nonanoic (pelargonic) acid      156.24   12.3    127    9.000  1.4120   \n",
       "2         Oleic (elainic) acid      282.47   13.5    140  -77.434  1.6642   \n",
       "3     Octanoic (caprylic) acid      144.21   16.5    148  241.472 -1.6054   \n",
       "4  Undecanoic (undecylic) acid      186.29   28.4    139   11.000  1.4556   \n",
       "\n",
       "       cpsc     cpla     cplb      cplc      cpld  \n",
       "0  0.006150   72.739  1.36180 -0.003304  0.000003  \n",
       "1  0.000000  184.223  1.21100 -0.002921  0.000003  \n",
       "2  0.000000  278.686  2.54340 -0.005436  0.000005  \n",
       "3  0.006494  184.525  0.99722 -0.002423  0.000003  \n",
       "4  0.000000   73.094  2.33810 -0.005291  0.000005  "
      ]
     },
     "execution_count": 3,
     "metadata": {},
     "output_type": "execute_result"
    }
   ],
   "source": [
    "# Look at the data\n",
    "print(df.shape)\n",
    "df.head()"
   ]
  },
  {
   "cell_type": "code",
   "execution_count": 4,
   "id": "c8c80507",
   "metadata": {},
   "outputs": [],
   "source": [
    "class PcmProperties():\n",
    "    \"\"\"\n",
    "       This class allows us to calculate the properties of etutectic organic phase change materials\n",
    "       Ex: new_pcm = PcmProperties(pcm_data)\n",
    "           new_pcm.\n",
    "    \"\"\"\n",
    "    def __init__(self, data):\n",
    "        self.name = data[0]\n",
    "        self.molar_mass = data[1]\n",
    "        self.fusion_T = data[2]+273.15\n",
    "        self.heat_of_fusion = data[3]*data[1]\n",
    "        self.cp_solid_a = data[4]\n",
    "        self.cp_solid_b = data[5]\n",
    "        self.cp_solid_c = data[6]\n",
    "        self.cp_liquid_a = data[7]\n",
    "        self.cp_liquid_b = data[8]\n",
    "        self.cp_liquid_c = data[9]\n",
    "        self.cp_liquid_d = data[10]\n",
    "    "
   ]
  },
  {
   "cell_type": "code",
   "execution_count": 5,
   "id": "84238e84",
   "metadata": {},
   "outputs": [],
   "source": [
    "A = PcmProperties(df[df['pcm']==df['pcm'][0]].values.tolist()[0])\n",
    "B = PcmProperties(df[df['pcm']==df['pcm'][1]].values.tolist()[0])"
   ]
  },
  {
   "cell_type": "code",
   "execution_count": 23,
   "id": "be440edf",
   "metadata": {},
   "outputs": [],
   "source": [
    "class EutecticMixture():\n",
    "      #Ideal gas constant in J/mol.K\n",
    "    def __init__(self,A,B):\n",
    "        self.A = A\n",
    "        self.B = B\n",
    "        self.R = 8.314\n",
    "    def eutectic_properties(self):\n",
    "        self.mole_fraction_A = [i for i in np.arange(0.0005,0.9995,0.0001)]\n",
    "        self.temperature_BA = list(map(lambda xA: (self.A.fusion_T*self.A.heat_of_fusion)/(self.A.heat_of_fusion-self.R*self.A.fusion_T*math.log(xA)),self.mole_fraction_A))\n",
    "        self.temperature_AB = list(map(lambda xA: (self.B.fusion_T*self.B.heat_of_fusion)/(self.B.heat_of_fusion-self.R*self.B.fusion_T*math.log(1-xA)),self.mole_fraction_A))\n",
    "        for j in range(len(self.temperature_BA)-1):\n",
    "            err0 = self.temperature_AB[j]-self.temperature_BA[j] \n",
    "            err1 = self.temperature_AB[j+1]-self.temperature_BA[j+1]\n",
    "            if err0*err1<0:\n",
    "                break\n",
    "        self.TE = (self.temperature_AB[j]+self.temperature_BA[j])/2\n",
    "        self.xE = j*0.0001\n",
    "        return self.TE, self.xE\n",
    "    def plot_temp_AB(self):\n",
    "        sns.set_theme()\n",
    "        plt.scatter(self.mole_fraction_A,self.temperature_AB,marker =\".\")\n",
    "        plt.scatter(self.mole_fraction_A,self.temperature_BA,marker =\".\")\n",
    "        # To plot lines\n",
    "        font1 = {'family':'serif','color':'blue','size':18}\n",
    "        font2 = {'family':'serif','color':'darkred','size':12}\n",
    "\n",
    "        min_value = min(self.temperature_AB+self.temperature_BA)\n",
    "        plt.plot([0,self.xE,self.xE],[self.TE,self.TE,min_value])\n",
    "        plt.title(\"Plots of liquidus lines\",fontdict = font1)\n",
    "        #plt.text(-0.1,B.fusion_T-273.15,\"$TB$\")\n",
    "        plt.annotate(f'(xE={self.xE}, TE={round(self.TE,2)})', xy=(self.xE, self.TE),xytext=(self.xE+0.2,self.TE-20),arrowprops=dict(facecolor='red', shrink=0.05))\n",
    "        plt.xlabel(\"Mole fraction of A\",fontdict = font2)\n",
    "        plt.ylabel(\"Temperature ($T^oC$)\",fontdict = font2)\n",
    "        plt.show()\n",
    "    def entropy(self):\n",
    "        ds1_integrand = lambda T: (self.B.cp_solid_a + self.B.cp_solid_b*T +self.B.cp_solid_c*T**2)/T\n",
    "        self.ds1 = (1-self.xE)*integrate.quad(ds1_integrand,self.TE,self.B.fusion_T)[0]\n",
    "        self.ds2 = (1-self.xE)*self.B.heat_of_fusion/self.B.fusion_T\n",
    "        \n",
    "        ds3_integrand = lambda T: (self.A.cp_solid_a + self.A.cp_solid_b*T + self.A.cp_solid_c*T**2)/T\n",
    "        self.ds3 = self.xE*integrate.quad(ds3_integrand,self.TE,self.A.fusion_T)[0]\n",
    "        self.ds4 = self.xE*self.A.heat_of_fusion/self.A.fusion_T\n",
    "        ds5_integrand = lambda T: (self.A.cp_liquid_a+self.A.cp_liquid_b*T+self.A.cp_liquid_c*T**2+self.A.cp_liquid_d*T**3)/T\n",
    "        self.ds5 = self.xE*integrate.quad(ds5_integrand,self.A.fusion_T,self.B.fusion_T)[0]\n",
    "        self.ds6 = -self.R*(self.xE*math.log(self.xE) + (1-self.xE)*math.log(1-self.xE))\n",
    "        ds7_integrand = lambda T: (self.xE*(self.A.cp_liquid_a+self.A.cp_liquid_b*T +self.A.cp_liquid_c*T**2+ self.A.cp_liquid_d*T**3)+ (1-self.xE)*(self.B.cp_liquid_a+self.B.cp_liquid_b*T +self.B.cp_liquid_c*T**2+ self.B.cp_liquid_d*T**3))/T\n",
    "        self.ds7 = integrate.quad(ds7_integrand,self.B.fusion_T,self.TE)[0]\n",
    "        self.ds_total = self.ds1 + self.ds2 + self.ds3 + self.ds4 + self.ds5 + self.ds6 + self.ds7 \n",
    "        return self.ds_total\n",
    "    \n",
    "    def enthalpy(self):\n",
    "        dh1_integrand = lambda T: (self.B.cp_solid_a + self.B.cp_solid_b*T +self.B.cp_solid_c*T**2)\n",
    "        self.dh1 = (1-self.xE)*integrate.quad(dh1_integrand,self.TE,self.B.fusion_T)[0]\n",
    "        self.dh2 = (1-self.xE)*self.B.heat_of_fusion\n",
    "        dh3_integrand = lambda T: (self.A.cp_solid_a + self.A.cp_solid_b*T + self.A.cp_solid_c*T**2)\n",
    "        self.dh3 = self.xE*integrate.quad(dh3_integrand,self.TE,self.A.fusion_T)[0]\n",
    "        self.dh4 = self.xE*self.A.heat_of_fusion\n",
    "        dh5_integrand = lambda T: (self.A.cp_liquid_a+self.A.cp_liquid_b*T+self.A.cp_liquid_c*T**2+self.A.cp_liquid_d*T**3)\n",
    "        self.dh5 = self.xE*integrate.quad(dh5_integrand,self.A.fusion_T,self.B.fusion_T)[0]\n",
    "        self.dh6 = 0\n",
    "        dh7_integrand = lambda T: (self.xE*(self.A.cp_liquid_a+self.A.cp_liquid_b*T +self.A.cp_liquid_c*T**2+ self.A.cp_liquid_d*T**3)+ (1-self.xE)*(self.B.cp_liquid_a+self.B.cp_liquid_b*T +self.B.cp_liquid_c*T**2+ self.B.cp_liquid_d*T**3))\n",
    "        self.dh7 = integrate.quad(dh7_integrand,self.B.fusion_T,self.TE)[0]\n",
    "        self.dh_total = self.dh1 + self.dh2 + self.dh3 + self.dh4 + self.dh5 + self.dh6 + self.dh7\n",
    "        return self.dh_total\n",
    "        \n",
    "\n",
    "        \n",
    "    def plot_entropy(self):\n",
    "        self.entropy()\n",
    "        \n",
    "        x_entropy = ['$\\Delta S1$','$\\Delta S2$','$\\Delta S3$','$\\Delta S4$','$\\Delta S5$','$\\Delta S6$','$\\Delta S7$']\n",
    "        self.ds = [self.ds1, self.ds2,self.ds3,self.ds4,self.ds5,self.ds6,self.ds7]\n",
    "        plt.bar(x_entropy,self.ds)\n",
    "        plt.show()\n",
    "    def plot_enthalpy(self):\n",
    "        self.enthalpy()\n",
    "                \n",
    "        x_enthalpy = ['$\\Delta H1$','$\\Delta H2$','$\\Delta H3$','$\\Delta H4$','$\\Delta H5$','$\\Delta H6$','$\\Delta H7$']\n",
    "        self.dh = [self.dh1, self.dh2,self.dh3,self.dh4,self.dh5,self.dh6,self.dh7]\n",
    "        plt.bar(x_enthalpy,self.dh)\n",
    "        plt.show()\n",
    "\n",
    "        "
   ]
  },
  {
   "cell_type": "code",
   "execution_count": 24,
   "id": "9c548b85",
   "metadata": {},
   "outputs": [
    {
     "data": {
      "image/png": "[encoded data removed]",
      "text/plain": [
       "<Figure size 432x288 with 1 Axes>"
      ]
     },
     "metadata": {},
     "output_type": "display_data"
    },
    {
     "name": "stdout",
     "output_type": "stream",
     "text": [
      "64.23314221092895\n",
      "15.79945558826746\n",
      "16131.107474096309\n"
     ]
    }
   ],
   "source": [
    "mix = EutecticMixture(A,B)\n",
    "TE, xE = mix.eutectic_properties()\n",
    "mix.plot_temp_AB()\n",
    "print(mix.entropy())\n",
    "print(mix.ds1)\n",
    "print(mix.enthalpy())"
   ]
  },
  {
   "cell_type": "code",
   "execution_count": 25,
   "id": "3415658b",
   "metadata": {},
   "outputs": [
    {
     "data": {
      "image/png": "[encoded data removed]",
      "text/plain": [
       "<Figure size 432x288 with 1 Axes>"
      ]
     },
     "metadata": {},
     "output_type": "display_data"
    }
   ],
   "source": [
    "mix.plot_entropy()"
   ]
  },
  {
   "cell_type": "code",
   "execution_count": 26,
   "id": "7e414384",
   "metadata": {},
   "outputs": [
    {
     "data": {
      "image/png": "[encoded data removed]",
      "text/plain": [
       "<Figure size 432x288 with 1 Axes>"
      ]
     },
     "metadata": {},
     "output_type": "display_data"
    }
   ],
   "source": [
    "mix.plot_enthalpy()"
   ]
  },
  {
   "cell_type": "markdown",
   "id": "982e3117",
   "metadata": {},
   "source": [
    "mix.dh1"
   ]
  },
  {
   "cell_type": "code",
   "execution_count": 19,
   "id": "2975a8d0",
   "metadata": {},
   "outputs": [
    {
     "data": {
      "text/plain": [
       "15.79945558826746"
      ]
     },
     "execution_count": 19,
     "metadata": {},
     "output_type": "execute_result"
    }
   ],
   "source": [
    "mix.ds1"
   ]
  },
  {
   "cell_type": "code",
   "execution_count": 164,
   "id": "f4da68e8",
   "metadata": {},
   "outputs": [
    {
     "data": {
      "image/png": "[encoded data removed]",
      "text/plain": [
       "<Figure size 432x288 with 1 Axes>"
      ]
     },
     "metadata": {},
     "output_type": "display_data"
    }
   ],
   "source": [
    "sns.set_theme()\n",
    "plt.scatter(xA,temp_AB,marker =\".\")\n",
    "plt.scatter(xA,temp_BA,marker =\".\")\n",
    "# To plot lines\n",
    "font1 = {'family':'serif','color':'blue','size':18}\n",
    "font2 = {'family':'serif','color':'darkred','size':12}\n",
    "\n",
    "min_value = min(temp_AB+temp_BA)\n",
    "plt.plot([0,xE,xE],[TE,TE,min_value])\n",
    "plt.title(\"Plots of liquidus lines\",fontdict = font1)\n",
    "#plt.text(-0.1,B.fusion_T-273.15,\"$TB$\")\n",
    "plt.annotate(f'(xE={xE}, TE={round(TE,2)})', xy=(xE, TE),xytext=(xE+0.2,TE-20),arrowprops=dict(facecolor='red', shrink=0.05))\n",
    "plt.xlabel(\"Mole fraction of A\",fontdict = font2)\n",
    "plt.ylabel(\"Temperature ($T^oC$)\",fontdict = font2)\n",
    "plt.show()\n"
   ]
  },
  {
   "cell_type": "code",
   "execution_count": 188,
   "id": "d4fde3d9",
   "metadata": {},
   "outputs": [
    {
     "data": {
      "text/plain": [
       "-22.406931232399046"
      ]
     },
     "execution_count": 188,
     "metadata": {},
     "output_type": "execute_result"
    }
   ],
   "source": [
    "mix.TE"
   ]
  },
  {
   "cell_type": "code",
   "execution_count": 189,
   "id": "48a3d116",
   "metadata": {},
   "outputs": [
    {
     "data": {
      "text/plain": [
       "285.45"
      ]
     },
     "execution_count": 189,
     "metadata": {},
     "output_type": "execute_result"
    }
   ],
   "source": [
    "mix.B.fusion_T"
   ]
  },
  {
   "cell_type": "code",
   "execution_count": 27,
   "id": "13309d27",
   "metadata": {},
   "outputs": [
    {
     "data": {
      "text/plain": [
       "Index(['pcm', 'molar_mass', 'T_fus', 'Del_H', 'cpsa', 'cpsb', 'cpsc', 'cpla',\n",
       "       'cplb', 'cplc', 'cpld'],\n",
       "      dtype='object')"
      ]
     },
     "execution_count": 27,
     "metadata": {},
     "output_type": "execute_result"
    }
   ],
   "source": [
    "df.columns"
   ]
  },
  {
   "cell_type": "code",
   "execution_count": 28,
   "id": "b52b457b",
   "metadata": {},
   "outputs": [],
   "source": [
    "#Calculation of xE, TE and DeltaH for the mixture for the given dataset\n",
    "\n",
    "A = PcmProperties(df[df['pcm']==df['pcm'][0]].values.tolist()[0])\n",
    "B = PcmProperties(df[df['pcm']==df['pcm'][1]].values.tolist()[0])\n",
    "mix = EutecticMixture(A,B)\n",
    "TE, xE = mix.eutectic_properties()\n",
    "HE = mix.enthalpy()\n"
   ]
  },
  {
   "cell_type": "code",
   "execution_count": 46,
   "id": "aabf39bb",
   "metadata": {},
   "outputs": [
    {
     "data": {
      "text/html": [
       "<div>\n",
       "<style scoped>\n",
       "    .dataframe tbody tr th:only-of-type {\n",
       "        vertical-align: middle;\n",
       "    }\n",
       "\n",
       "    .dataframe tbody tr th {\n",
       "        vertical-align: top;\n",
       "    }\n",
       "\n",
       "    .dataframe thead th {\n",
       "        text-align: right;\n",
       "    }\n",
       "</style>\n",
       "<table border=\"1\" class=\"dataframe\">\n",
       "  <thead>\n",
       "    <tr style=\"text-align: right;\">\n",
       "      <th></th>\n",
       "      <th>pcm_A</th>\n",
       "      <th>pcm_B</th>\n",
       "      <th>xE</th>\n",
       "      <th>TE</th>\n",
       "      <th>dH</th>\n",
       "    </tr>\n",
       "  </thead>\n",
       "  <tbody>\n",
       "  </tbody>\n",
       "</table>\n",
       "</div>"
      ],
      "text/plain": [
       "Empty DataFrame\n",
       "Columns: [pcm_A, pcm_B, xE, TE, dH]\n",
       "Index: []"
      ]
     },
     "execution_count": 46,
     "metadata": {},
     "output_type": "execute_result"
    }
   ],
   "source": []
  },
  {
   "cell_type": "code",
   "execution_count": 48,
   "id": "36a837b9",
   "metadata": {},
   "outputs": [
    {
     "ename": "TypeError",
     "evalue": "cannot concatenate object of type '<class 'str'>'; only Series and DataFrame objs are valid",
     "output_type": "error",
     "traceback": [
      "\u001b[1;31m---------------------------------------------------------------------------\u001b[0m",
      "\u001b[1;31mTypeError\u001b[0m                                 Traceback (most recent call last)",
      "\u001b[1;32m<ipython-input-48-73372ed5918e>\u001b[0m in \u001b[0;36m<module>\u001b[1;34m\u001b[0m\n\u001b[1;32m----> 1\u001b[1;33m \u001b[0mdf_out\u001b[0m\u001b[1;33m[\u001b[0m\u001b[1;34m'pcm_A'\u001b[0m\u001b[1;33m]\u001b[0m\u001b[1;33m.\u001b[0m\u001b[0mappend\u001b[0m\u001b[1;33m(\u001b[0m\u001b[1;34m'A1'\u001b[0m\u001b[1;33m)\u001b[0m\u001b[1;33m\u001b[0m\u001b[1;33m\u001b[0m\u001b[0m\n\u001b[0m\u001b[0;32m      2\u001b[0m \u001b[0mdf_out\u001b[0m\u001b[1;33m[\u001b[0m\u001b[1;34m'pcm_B'\u001b[0m\u001b[1;33m]\u001b[0m\u001b[1;33m.\u001b[0m\u001b[0mappend\u001b[0m\u001b[1;33m(\u001b[0m\u001b[1;34m'A21'\u001b[0m\u001b[1;33m)\u001b[0m\u001b[1;33m\u001b[0m\u001b[1;33m\u001b[0m\u001b[0m\n\u001b[0;32m      3\u001b[0m \u001b[0mdf_out\u001b[0m\u001b[1;33m[\u001b[0m\u001b[1;34m'xE'\u001b[0m\u001b[1;33m]\u001b[0m\u001b[1;33m.\u001b[0m\u001b[0mappend\u001b[0m\u001b[1;33m(\u001b[0m\u001b[1;36m0.651\u001b[0m\u001b[1;33m)\u001b[0m\u001b[1;33m\u001b[0m\u001b[1;33m\u001b[0m\u001b[0m\n\u001b[0;32m      4\u001b[0m \u001b[0mdf_out\u001b[0m\u001b[1;33m[\u001b[0m\u001b[1;34m'TE'\u001b[0m\u001b[1;33m]\u001b[0m\u001b[1;33m.\u001b[0m\u001b[0mappend\u001b[0m\u001b[1;33m(\u001b[0m\u001b[1;36m201\u001b[0m\u001b[1;33m)\u001b[0m\u001b[1;33m\u001b[0m\u001b[1;33m\u001b[0m\u001b[0m\n\u001b[0;32m      5\u001b[0m \u001b[0mdf_out\u001b[0m\u001b[1;33m[\u001b[0m\u001b[1;34m'dH'\u001b[0m\u001b[1;33m]\u001b[0m\u001b[1;33m.\u001b[0m\u001b[0mappend\u001b[0m\u001b[1;33m(\u001b[0m\u001b[1;36m161181\u001b[0m\u001b[1;33m)\u001b[0m\u001b[1;33m\u001b[0m\u001b[1;33m\u001b[0m\u001b[0m\n",
      "\u001b[1;32m~\\anaconda3\\lib\\site-packages\\pandas\\core\\series.py\u001b[0m in \u001b[0;36mappend\u001b[1;34m(self, to_append, ignore_index, verify_integrity)\u001b[0m\n\u001b[0;32m   2875\u001b[0m             \u001b[1;32mraise\u001b[0m \u001b[0mTypeError\u001b[0m\u001b[1;33m(\u001b[0m\u001b[0mmsg\u001b[0m\u001b[1;33m)\u001b[0m\u001b[1;33m\u001b[0m\u001b[1;33m\u001b[0m\u001b[0m\n\u001b[0;32m   2876\u001b[0m         return concat(\n\u001b[1;32m-> 2877\u001b[1;33m             \u001b[0mto_concat\u001b[0m\u001b[1;33m,\u001b[0m \u001b[0mignore_index\u001b[0m\u001b[1;33m=\u001b[0m\u001b[0mignore_index\u001b[0m\u001b[1;33m,\u001b[0m \u001b[0mverify_integrity\u001b[0m\u001b[1;33m=\u001b[0m\u001b[0mverify_integrity\u001b[0m\u001b[1;33m\u001b[0m\u001b[1;33m\u001b[0m\u001b[0m\n\u001b[0m\u001b[0;32m   2878\u001b[0m         )\n\u001b[0;32m   2879\u001b[0m \u001b[1;33m\u001b[0m\u001b[0m\n",
      "\u001b[1;32m~\\anaconda3\\lib\\site-packages\\pandas\\util\\_decorators.py\u001b[0m in \u001b[0;36mwrapper\u001b[1;34m(*args, **kwargs)\u001b[0m\n\u001b[0;32m    309\u001b[0m                     \u001b[0mstacklevel\u001b[0m\u001b[1;33m=\u001b[0m\u001b[0mstacklevel\u001b[0m\u001b[1;33m,\u001b[0m\u001b[1;33m\u001b[0m\u001b[1;33m\u001b[0m\u001b[0m\n\u001b[0;32m    310\u001b[0m                 )\n\u001b[1;32m--> 311\u001b[1;33m             \u001b[1;32mreturn\u001b[0m \u001b[0mfunc\u001b[0m\u001b[1;33m(\u001b[0m\u001b[1;33m*\u001b[0m\u001b[0margs\u001b[0m\u001b[1;33m,\u001b[0m \u001b[1;33m**\u001b[0m\u001b[0mkwargs\u001b[0m\u001b[1;33m)\u001b[0m\u001b[1;33m\u001b[0m\u001b[1;33m\u001b[0m\u001b[0m\n\u001b[0m\u001b[0;32m    312\u001b[0m \u001b[1;33m\u001b[0m\u001b[0m\n\u001b[0;32m    313\u001b[0m         \u001b[1;32mreturn\u001b[0m \u001b[0mwrapper\u001b[0m\u001b[1;33m\u001b[0m\u001b[1;33m\u001b[0m\u001b[0m\n",
      "\u001b[1;32m~\\anaconda3\\lib\\site-packages\\pandas\\core\\reshape\\concat.py\u001b[0m in \u001b[0;36mconcat\u001b[1;34m(objs, axis, join, ignore_index, keys, levels, names, verify_integrity, sort, copy)\u001b[0m\n\u001b[0;32m    302\u001b[0m         \u001b[0mverify_integrity\u001b[0m\u001b[1;33m=\u001b[0m\u001b[0mverify_integrity\u001b[0m\u001b[1;33m,\u001b[0m\u001b[1;33m\u001b[0m\u001b[1;33m\u001b[0m\u001b[0m\n\u001b[0;32m    303\u001b[0m         \u001b[0mcopy\u001b[0m\u001b[1;33m=\u001b[0m\u001b[0mcopy\u001b[0m\u001b[1;33m,\u001b[0m\u001b[1;33m\u001b[0m\u001b[1;33m\u001b[0m\u001b[0m\n\u001b[1;32m--> 304\u001b[1;33m         \u001b[0msort\u001b[0m\u001b[1;33m=\u001b[0m\u001b[0msort\u001b[0m\u001b[1;33m,\u001b[0m\u001b[1;33m\u001b[0m\u001b[1;33m\u001b[0m\u001b[0m\n\u001b[0m\u001b[0;32m    305\u001b[0m     )\n\u001b[0;32m    306\u001b[0m \u001b[1;33m\u001b[0m\u001b[0m\n",
      "\u001b[1;32m~\\anaconda3\\lib\\site-packages\\pandas\\core\\reshape\\concat.py\u001b[0m in \u001b[0;36m__init__\u001b[1;34m(self, objs, axis, join, keys, levels, names, ignore_index, verify_integrity, copy, sort)\u001b[0m\n\u001b[0;32m    382\u001b[0m                     \u001b[1;34m\"only Series and DataFrame objs are valid\"\u001b[0m\u001b[1;33m\u001b[0m\u001b[1;33m\u001b[0m\u001b[0m\n\u001b[0;32m    383\u001b[0m                 )\n\u001b[1;32m--> 384\u001b[1;33m                 \u001b[1;32mraise\u001b[0m \u001b[0mTypeError\u001b[0m\u001b[1;33m(\u001b[0m\u001b[0mmsg\u001b[0m\u001b[1;33m)\u001b[0m\u001b[1;33m\u001b[0m\u001b[1;33m\u001b[0m\u001b[0m\n\u001b[0m\u001b[0;32m    385\u001b[0m \u001b[1;33m\u001b[0m\u001b[0m\n\u001b[0;32m    386\u001b[0m             \u001b[0mndims\u001b[0m\u001b[1;33m.\u001b[0m\u001b[0madd\u001b[0m\u001b[1;33m(\u001b[0m\u001b[0mobj\u001b[0m\u001b[1;33m.\u001b[0m\u001b[0mndim\u001b[0m\u001b[1;33m)\u001b[0m\u001b[1;33m\u001b[0m\u001b[1;33m\u001b[0m\u001b[0m\n",
      "\u001b[1;31mTypeError\u001b[0m: cannot concatenate object of type '<class 'str'>'; only Series and DataFrame objs are valid"
     ]
    }
   ],
   "source": [
    "df_out['pcm_A'].append('A1')\n",
    "df_out['pcm_B'].append('A21')\n",
    "df_out['xE'].append(0.651)\n",
    "df_out['TE'].append(201)\n",
    "df_out['dH'].append(161181)\n",
    "df_out.head()"
   ]
  },
  {
   "cell_type": "code",
   "execution_count": 51,
   "id": "5cc44fac",
   "metadata": {},
   "outputs": [
    {
     "name": "stdout",
     "output_type": "stream",
     "text": [
      "   pcm_A  pcm_B  xE  TE  dH\n",
      "0  pcm_A  pcm_B  xE  TE  dH\n",
      "1  pcm_A  pcm_B  xE  TE  dH\n",
      "2  pcm_A  pcm_B  xE  TE  dH\n"
     ]
    }
   ],
   "source": [
    "data =[['pcm_A', 'pcm_B', 'xE', 'TE', 'dH'],['pcm_A', 'pcm_B', 'xE', 'TE', 'dH'],['pcm_A', 'pcm_B', 'xE', 'TE', 'dH']]\n",
    "df = pd.DataFrame(data,columns=['pcm_A', 'pcm_B', 'xE', 'TE', 'dH'])\n",
    "print(df)"
   ]
  },
  {
   "cell_type": "code",
   "execution_count": 53,
   "id": "dd22e130",
   "metadata": {},
   "outputs": [
    {
     "data": {
      "text/html": [
       "<div>\n",
       "<style scoped>\n",
       "    .dataframe tbody tr th:only-of-type {\n",
       "        vertical-align: middle;\n",
       "    }\n",
       "\n",
       "    .dataframe tbody tr th {\n",
       "        vertical-align: top;\n",
       "    }\n",
       "\n",
       "    .dataframe thead th {\n",
       "        text-align: right;\n",
       "    }\n",
       "</style>\n",
       "<table border=\"1\" class=\"dataframe\">\n",
       "  <thead>\n",
       "    <tr style=\"text-align: right;\">\n",
       "      <th></th>\n",
       "      <th>pcm_A</th>\n",
       "      <th>pcm_B</th>\n",
       "      <th>xE</th>\n",
       "      <th>TE</th>\n",
       "      <th>dH</th>\n",
       "    </tr>\n",
       "  </thead>\n",
       "  <tbody>\n",
       "    <tr>\n",
       "      <th>0</th>\n",
       "      <td>pcm_A</td>\n",
       "      <td>pcm_B</td>\n",
       "      <td>xE</td>\n",
       "      <td>TE</td>\n",
       "      <td>dH</td>\n",
       "    </tr>\n",
       "    <tr>\n",
       "      <th>1</th>\n",
       "      <td>pcm_A</td>\n",
       "      <td>pcm_B</td>\n",
       "      <td>xE</td>\n",
       "      <td>TE</td>\n",
       "      <td>dH</td>\n",
       "    </tr>\n",
       "    <tr>\n",
       "      <th>2</th>\n",
       "      <td>pcm_A</td>\n",
       "      <td>pcm_B</td>\n",
       "      <td>xE</td>\n",
       "      <td>TE</td>\n",
       "      <td>dH</td>\n",
       "    </tr>\n",
       "  </tbody>\n",
       "</table>\n",
       "</div>"
      ],
      "text/plain": [
       "   pcm_A  pcm_B  xE  TE  dH\n",
       "0  pcm_A  pcm_B  xE  TE  dH\n",
       "1  pcm_A  pcm_B  xE  TE  dH\n",
       "2  pcm_A  pcm_B  xE  TE  dH"
      ]
     },
     "execution_count": 53,
     "metadata": {},
     "output_type": "execute_result"
    }
   ],
   "source": [
    "df"
   ]
  },
  {
   "cell_type": "code",
   "execution_count": 94,
   "id": "e5437e73",
   "metadata": {},
   "outputs": [
    {
     "data": {
      "text/plain": [
       "105"
      ]
     },
     "execution_count": 94,
     "metadata": {},
     "output_type": "execute_result"
    }
   ],
   "source": [
    "data = []\n",
    "for i in range(len(df)-1):\n",
    "    for j in range(i+1,len(df)): \n",
    "        A = PcmProperties(df[df['pcm']==df['pcm'][i]].values.tolist()[0])\n",
    "        B = PcmProperties(df[df['pcm']==df['pcm'][j]].values.tolist()[0])\n",
    "        mix = EutecticMixture(A,B)\n",
    "        TE, xE = mix.eutectic_properties()\n",
    "        HE = mix.enthalpy()\n",
    "        data.append([A.name,B.name,xE,round(TE-273.15,1),HE])\n",
    "df_enthalpy = pd.DataFrame(data,columns=['pcm_A', 'pcm_B', 'xE', 'TE', 'dH'])\n",
    "len(df_enthalpy)\n",
    "\n",
    "        "
   ]
  },
  {
   "cell_type": "code",
   "execution_count": 97,
   "id": "af88f453",
   "metadata": {},
   "outputs": [],
   "source": [
    "df_enthalpy.to_csv('../data/eutectic_enthalpy.csv',index=False)"
   ]
  },
  {
   "cell_type": "code",
   "execution_count": 68,
   "id": "9c943099",
   "metadata": {},
   "outputs": [
    {
     "data": {
      "text/html": [
       "<div>\n",
       "<style scoped>\n",
       "    .dataframe tbody tr th:only-of-type {\n",
       "        vertical-align: middle;\n",
       "    }\n",
       "\n",
       "    .dataframe tbody tr th {\n",
       "        vertical-align: top;\n",
       "    }\n",
       "\n",
       "    .dataframe thead th {\n",
       "        text-align: right;\n",
       "    }\n",
       "</style>\n",
       "<table border=\"1\" class=\"dataframe\">\n",
       "  <thead>\n",
       "    <tr style=\"text-align: right;\">\n",
       "      <th></th>\n",
       "      <th>pcm_A</th>\n",
       "      <th>pcm_B</th>\n",
       "      <th>xE</th>\n",
       "      <th>TE</th>\n",
       "      <th>dH</th>\n",
       "    </tr>\n",
       "  </thead>\n",
       "  <tbody>\n",
       "    <tr>\n",
       "      <th>0</th>\n",
       "      <td>Heptanoic (enanthic) acid</td>\n",
       "      <td>Nonanoic (pelargonic) acid</td>\n",
       "      <td>0.6851</td>\n",
       "      <td>-22.406931</td>\n",
       "      <td>16131.107474</td>\n",
       "    </tr>\n",
       "    <tr>\n",
       "      <th>1</th>\n",
       "      <td>Heptanoic (enanthic) acid</td>\n",
       "      <td>Oleic (elainic) acid</td>\n",
       "      <td>0.8360</td>\n",
       "      <td>-14.711883</td>\n",
       "      <td>16849.661969</td>\n",
       "    </tr>\n",
       "    <tr>\n",
       "      <th>2</th>\n",
       "      <td>Heptanoic (enanthic) acid</td>\n",
       "      <td>Octanoic (caprylic) acid</td>\n",
       "      <td>0.7242</td>\n",
       "      <td>-20.306637</td>\n",
       "      <td>15567.607792</td>\n",
       "    </tr>\n",
       "    <tr>\n",
       "      <th>3</th>\n",
       "      <td>Heptanoic (enanthic) acid</td>\n",
       "      <td>Undecanoic (undecylic) acid</td>\n",
       "      <td>0.8252</td>\n",
       "      <td>-15.230577</td>\n",
       "      <td>16090.588665</td>\n",
       "    </tr>\n",
       "    <tr>\n",
       "      <th>4</th>\n",
       "      <td>Heptanoic (enanthic) acid</td>\n",
       "      <td>Decanoic (capric) acid</td>\n",
       "      <td>0.8321</td>\n",
       "      <td>-14.895488</td>\n",
       "      <td>15547.538389</td>\n",
       "    </tr>\n",
       "    <tr>\n",
       "      <th>...</th>\n",
       "      <td>...</td>\n",
       "      <td>...</td>\n",
       "      <td>...</td>\n",
       "      <td>...</td>\n",
       "      <td>...</td>\n",
       "    </tr>\n",
       "    <tr>\n",
       "      <th>100</th>\n",
       "      <td>Heptadecanoic (heptadecylic) acid</td>\n",
       "      <td>Octadecanoic (stearic) acid</td>\n",
       "      <td>0.6048</td>\n",
       "      <td>54.011531</td>\n",
       "      <td>54389.935747</td>\n",
       "    </tr>\n",
       "    <tr>\n",
       "      <th>101</th>\n",
       "      <td>Heptadecanoic (heptadecylic) acid</td>\n",
       "      <td>Eicosanoic (arachidic) acid</td>\n",
       "      <td>0.7310</td>\n",
       "      <td>57.272663</td>\n",
       "      <td>56248.100753</td>\n",
       "    </tr>\n",
       "    <tr>\n",
       "      <th>102</th>\n",
       "      <td>Nonadecanoic (nonadecylic) acid</td>\n",
       "      <td>Octadecanoic (stearic) acid</td>\n",
       "      <td>0.5126</td>\n",
       "      <td>57.151531</td>\n",
       "      <td>58391.070253</td>\n",
       "    </tr>\n",
       "    <tr>\n",
       "      <th>103</th>\n",
       "      <td>Nonadecanoic (nonadecylic) acid</td>\n",
       "      <td>Eicosanoic (arachidic) acid</td>\n",
       "      <td>0.6460</td>\n",
       "      <td>60.829175</td>\n",
       "      <td>61600.419554</td>\n",
       "    </tr>\n",
       "    <tr>\n",
       "      <th>104</th>\n",
       "      <td>Octadecanoic (stearic) acid</td>\n",
       "      <td>Eicosanoic (arachidic) acid</td>\n",
       "      <td>0.6350</td>\n",
       "      <td>61.230055</td>\n",
       "      <td>63429.572345</td>\n",
       "    </tr>\n",
       "  </tbody>\n",
       "</table>\n",
       "<p>105 rows × 5 columns</p>\n",
       "</div>"
      ],
      "text/plain": [
       "                                 pcm_A                        pcm_B      xE  \\\n",
       "0            Heptanoic (enanthic) acid   Nonanoic (pelargonic) acid  0.6851   \n",
       "1            Heptanoic (enanthic) acid         Oleic (elainic) acid  0.8360   \n",
       "2            Heptanoic (enanthic) acid     Octanoic (caprylic) acid  0.7242   \n",
       "3            Heptanoic (enanthic) acid  Undecanoic (undecylic) acid  0.8252   \n",
       "4            Heptanoic (enanthic) acid       Decanoic (capric) acid  0.8321   \n",
       "..                                 ...                          ...     ...   \n",
       "100  Heptadecanoic (heptadecylic) acid  Octadecanoic (stearic) acid  0.6048   \n",
       "101  Heptadecanoic (heptadecylic) acid  Eicosanoic (arachidic) acid  0.7310   \n",
       "102    Nonadecanoic (nonadecylic) acid  Octadecanoic (stearic) acid  0.5126   \n",
       "103    Nonadecanoic (nonadecylic) acid  Eicosanoic (arachidic) acid  0.6460   \n",
       "104        Octadecanoic (stearic) acid  Eicosanoic (arachidic) acid  0.6350   \n",
       "\n",
       "            TE            dH  \n",
       "0   -22.406931  16131.107474  \n",
       "1   -14.711883  16849.661969  \n",
       "2   -20.306637  15567.607792  \n",
       "3   -15.230577  16090.588665  \n",
       "4   -14.895488  15547.538389  \n",
       "..         ...           ...  \n",
       "100  54.011531  54389.935747  \n",
       "101  57.272663  56248.100753  \n",
       "102  57.151531  58391.070253  \n",
       "103  60.829175  61600.419554  \n",
       "104  61.230055  63429.572345  \n",
       "\n",
       "[105 rows x 5 columns]"
      ]
     },
     "execution_count": 68,
     "metadata": {},
     "output_type": "execute_result"
    }
   ],
   "source": [
    "df_enthalpy"
   ]
  },
  {
   "cell_type": "code",
   "execution_count": 69,
   "id": "f8e4ed8e",
   "metadata": {},
   "outputs": [],
   "source": [
    "selected_melting_T=-12"
   ]
  },
  {
   "cell_type": "code",
   "execution_count": 92,
   "id": "f4de6952",
   "metadata": {},
   "outputs": [
    {
     "data": {
      "text/html": [
       "<div>\n",
       "<style scoped>\n",
       "    .dataframe tbody tr th:only-of-type {\n",
       "        vertical-align: middle;\n",
       "    }\n",
       "\n",
       "    .dataframe tbody tr th {\n",
       "        vertical-align: top;\n",
       "    }\n",
       "\n",
       "    .dataframe thead th {\n",
       "        text-align: right;\n",
       "    }\n",
       "</style>\n",
       "<table border=\"1\" class=\"dataframe\">\n",
       "  <thead>\n",
       "    <tr style=\"text-align: right;\">\n",
       "      <th></th>\n",
       "      <th>pcm_A</th>\n",
       "      <th>pcm_B</th>\n",
       "      <th>xE</th>\n",
       "      <th>TE</th>\n",
       "      <th>dH</th>\n",
       "      <th>d</th>\n",
       "    </tr>\n",
       "  </thead>\n",
       "  <tbody>\n",
       "    <tr>\n",
       "      <th>5</th>\n",
       "      <td>Heptanoic (enanthic) acid</td>\n",
       "      <td>Tridecanoic (tridecylic) acid</td>\n",
       "      <td>0.9230</td>\n",
       "      <td>-10.703815</td>\n",
       "      <td>15301.399576</td>\n",
       "      <td>1.296185</td>\n",
       "    </tr>\n",
       "    <tr>\n",
       "      <th>6</th>\n",
       "      <td>Heptanoic (enanthic) acid</td>\n",
       "      <td>Dodecanoic (lauric) acid</td>\n",
       "      <td>0.9348</td>\n",
       "      <td>-10.185353</td>\n",
       "      <td>13571.476241</td>\n",
       "      <td>1.814647</td>\n",
       "    </tr>\n",
       "    <tr>\n",
       "      <th>1</th>\n",
       "      <td>Heptanoic (enanthic) acid</td>\n",
       "      <td>Oleic (elainic) acid</td>\n",
       "      <td>0.8360</td>\n",
       "      <td>-14.711883</td>\n",
       "      <td>16849.661969</td>\n",
       "      <td>2.711883</td>\n",
       "    </tr>\n",
       "    <tr>\n",
       "      <th>4</th>\n",
       "      <td>Heptanoic (enanthic) acid</td>\n",
       "      <td>Decanoic (capric) acid</td>\n",
       "      <td>0.8321</td>\n",
       "      <td>-14.895488</td>\n",
       "      <td>15547.538389</td>\n",
       "      <td>2.895488</td>\n",
       "    </tr>\n",
       "    <tr>\n",
       "      <th>7</th>\n",
       "      <td>Heptanoic (enanthic) acid</td>\n",
       "      <td>Pentadecanoic (pentadecylic) acid</td>\n",
       "      <td>0.9669</td>\n",
       "      <td>-8.779223</td>\n",
       "      <td>14646.964706</td>\n",
       "      <td>3.220777</td>\n",
       "    </tr>\n",
       "    <tr>\n",
       "      <th>3</th>\n",
       "      <td>Heptanoic (enanthic) acid</td>\n",
       "      <td>Undecanoic (undecylic) acid</td>\n",
       "      <td>0.8252</td>\n",
       "      <td>-15.230577</td>\n",
       "      <td>16090.588665</td>\n",
       "      <td>3.230577</td>\n",
       "    </tr>\n",
       "    <tr>\n",
       "      <th>8</th>\n",
       "      <td>Heptanoic (enanthic) acid</td>\n",
       "      <td>Tetradecanoic (myristic) acid</td>\n",
       "      <td>0.9751</td>\n",
       "      <td>-8.411861</td>\n",
       "      <td>13905.517926</td>\n",
       "      <td>3.588139</td>\n",
       "    </tr>\n",
       "    <tr>\n",
       "      <th>10</th>\n",
       "      <td>Heptanoic (enanthic) acid</td>\n",
       "      <td>Heptadecanoic (heptadecylic) acid</td>\n",
       "      <td>0.9925</td>\n",
       "      <td>-7.690014</td>\n",
       "      <td>14150.355089</td>\n",
       "      <td>4.309986</td>\n",
       "    </tr>\n",
       "    <tr>\n",
       "      <th>9</th>\n",
       "      <td>Heptanoic (enanthic) acid</td>\n",
       "      <td>Hexadecanoic (palmitic) acid</td>\n",
       "      <td>0.9924</td>\n",
       "      <td>-7.627060</td>\n",
       "      <td>14023.641848</td>\n",
       "      <td>4.372940</td>\n",
       "    </tr>\n",
       "    <tr>\n",
       "      <th>12</th>\n",
       "      <td>Heptanoic (enanthic) acid</td>\n",
       "      <td>Octadecanoic (stearic) acid</td>\n",
       "      <td>0.9971</td>\n",
       "      <td>-7.465304</td>\n",
       "      <td>13900.440015</td>\n",
       "      <td>4.534696</td>\n",
       "    </tr>\n",
       "    <tr>\n",
       "      <th>11</th>\n",
       "      <td>Heptanoic (enanthic) acid</td>\n",
       "      <td>Nonadecanoic (nonadecylic) acid</td>\n",
       "      <td>0.9963</td>\n",
       "      <td>-7.374001</td>\n",
       "      <td>14063.097213</td>\n",
       "      <td>4.625999</td>\n",
       "    </tr>\n",
       "    <tr>\n",
       "      <th>15</th>\n",
       "      <td>Nonanoic (pelargonic) acid</td>\n",
       "      <td>Octanoic (caprylic) acid</td>\n",
       "      <td>0.5434</td>\n",
       "      <td>-7.074242</td>\n",
       "      <td>20513.678815</td>\n",
       "      <td>4.925758</td>\n",
       "    </tr>\n",
       "  </tbody>\n",
       "</table>\n",
       "</div>"
      ],
      "text/plain": [
       "                         pcm_A                              pcm_B      xE  \\\n",
       "5    Heptanoic (enanthic) acid      Tridecanoic (tridecylic) acid  0.9230   \n",
       "6    Heptanoic (enanthic) acid           Dodecanoic (lauric) acid  0.9348   \n",
       "1    Heptanoic (enanthic) acid               Oleic (elainic) acid  0.8360   \n",
       "4    Heptanoic (enanthic) acid             Decanoic (capric) acid  0.8321   \n",
       "7    Heptanoic (enanthic) acid  Pentadecanoic (pentadecylic) acid  0.9669   \n",
       "3    Heptanoic (enanthic) acid        Undecanoic (undecylic) acid  0.8252   \n",
       "8    Heptanoic (enanthic) acid      Tetradecanoic (myristic) acid  0.9751   \n",
       "10   Heptanoic (enanthic) acid  Heptadecanoic (heptadecylic) acid  0.9925   \n",
       "9    Heptanoic (enanthic) acid       Hexadecanoic (palmitic) acid  0.9924   \n",
       "12   Heptanoic (enanthic) acid        Octadecanoic (stearic) acid  0.9971   \n",
       "11   Heptanoic (enanthic) acid    Nonadecanoic (nonadecylic) acid  0.9963   \n",
       "15  Nonanoic (pelargonic) acid           Octanoic (caprylic) acid  0.5434   \n",
       "\n",
       "           TE            dH         d  \n",
       "5  -10.703815  15301.399576  1.296185  \n",
       "6  -10.185353  13571.476241  1.814647  \n",
       "1  -14.711883  16849.661969  2.711883  \n",
       "4  -14.895488  15547.538389  2.895488  \n",
       "7   -8.779223  14646.964706  3.220777  \n",
       "3  -15.230577  16090.588665  3.230577  \n",
       "8   -8.411861  13905.517926  3.588139  \n",
       "10  -7.690014  14150.355089  4.309986  \n",
       "9   -7.627060  14023.641848  4.372940  \n",
       "12  -7.465304  13900.440015  4.534696  \n",
       "11  -7.374001  14063.097213  4.625999  \n",
       "15  -7.074242  20513.678815  4.925758  "
      ]
     },
     "execution_count": 92,
     "metadata": {},
     "output_type": "execute_result"
    }
   ],
   "source": [
    "selected_melting_T=-12\n",
    "\n",
    "def sort_nearby(x):\n",
    "    return min(abs(x-selected_melting_T),abs(selected_melting_T-x))\n",
    "df_enthalpy['d'] =df_enthalpy['TE'].apply(sort_nearby()) \n",
    "d =df_enthalpy.sort_values(by='d')\n",
    "d.head(12)"
   ]
  },
  {
   "cell_type": "code",
   "execution_count": 93,
   "id": "a2c067d1",
   "metadata": {},
   "outputs": [
    {
     "ename": "TypeError",
     "evalue": "'int' object is not callable",
     "output_type": "error",
     "traceback": [
      "\u001b[1;31m---------------------------------------------------------------------------\u001b[0m",
      "\u001b[1;31mTypeError\u001b[0m                                 Traceback (most recent call last)",
      "\u001b[1;32m<ipython-input-93-53548fb02a8c>\u001b[0m in \u001b[0;36m<module>\u001b[1;34m\u001b[0m\n\u001b[1;32m----> 1\u001b[1;33m \u001b[0mdf_enthalpy\u001b[0m\u001b[1;33m[\u001b[0m\u001b[1;34m'TE'\u001b[0m\u001b[1;33m]\u001b[0m\u001b[1;33m=\u001b[0m\u001b[0mdf_enthalpy\u001b[0m\u001b[1;33m[\u001b[0m\u001b[1;34m'TE'\u001b[0m\u001b[1;33m]\u001b[0m\u001b[1;33m.\u001b[0m\u001b[0mapply\u001b[0m\u001b[1;33m(\u001b[0m\u001b[0mround\u001b[0m\u001b[1;33m(\u001b[0m\u001b[1;36m1\u001b[0m\u001b[1;33m)\u001b[0m\u001b[1;33m)\u001b[0m\u001b[1;33m\u001b[0m\u001b[1;33m\u001b[0m\u001b[0m\n\u001b[0m\u001b[0;32m      2\u001b[0m \u001b[0mdf_enthalpy\u001b[0m\u001b[1;33m\u001b[0m\u001b[1;33m\u001b[0m\u001b[0m\n",
      "\u001b[1;32m~\\anaconda3\\lib\\site-packages\\pandas\\core\\series.py\u001b[0m in \u001b[0;36mapply\u001b[1;34m(self, func, convert_dtype, args, **kwargs)\u001b[0m\n\u001b[0;32m   4354\u001b[0m         \u001b[0mdtype\u001b[0m\u001b[1;33m:\u001b[0m \u001b[0mfloat64\u001b[0m\u001b[1;33m\u001b[0m\u001b[1;33m\u001b[0m\u001b[0m\n\u001b[0;32m   4355\u001b[0m         \"\"\"\n\u001b[1;32m-> 4356\u001b[1;33m         \u001b[1;32mreturn\u001b[0m \u001b[0mSeriesApply\u001b[0m\u001b[1;33m(\u001b[0m\u001b[0mself\u001b[0m\u001b[1;33m,\u001b[0m \u001b[0mfunc\u001b[0m\u001b[1;33m,\u001b[0m \u001b[0mconvert_dtype\u001b[0m\u001b[1;33m,\u001b[0m \u001b[0margs\u001b[0m\u001b[1;33m,\u001b[0m \u001b[0mkwargs\u001b[0m\u001b[1;33m)\u001b[0m\u001b[1;33m.\u001b[0m\u001b[0mapply\u001b[0m\u001b[1;33m(\u001b[0m\u001b[1;33m)\u001b[0m\u001b[1;33m\u001b[0m\u001b[1;33m\u001b[0m\u001b[0m\n\u001b[0m\u001b[0;32m   4357\u001b[0m \u001b[1;33m\u001b[0m\u001b[0m\n\u001b[0;32m   4358\u001b[0m     def _reduce(\n",
      "\u001b[1;32m~\\anaconda3\\lib\\site-packages\\pandas\\core\\apply.py\u001b[0m in \u001b[0;36mapply\u001b[1;34m(self)\u001b[0m\n\u001b[0;32m   1034\u001b[0m             \u001b[1;32mreturn\u001b[0m \u001b[0mself\u001b[0m\u001b[1;33m.\u001b[0m\u001b[0mapply_str\u001b[0m\u001b[1;33m(\u001b[0m\u001b[1;33m)\u001b[0m\u001b[1;33m\u001b[0m\u001b[1;33m\u001b[0m\u001b[0m\n\u001b[0;32m   1035\u001b[0m \u001b[1;33m\u001b[0m\u001b[0m\n\u001b[1;32m-> 1036\u001b[1;33m         \u001b[1;32mreturn\u001b[0m \u001b[0mself\u001b[0m\u001b[1;33m.\u001b[0m\u001b[0mapply_standard\u001b[0m\u001b[1;33m(\u001b[0m\u001b[1;33m)\u001b[0m\u001b[1;33m\u001b[0m\u001b[1;33m\u001b[0m\u001b[0m\n\u001b[0m\u001b[0;32m   1037\u001b[0m \u001b[1;33m\u001b[0m\u001b[0m\n\u001b[0;32m   1038\u001b[0m     \u001b[1;32mdef\u001b[0m \u001b[0magg\u001b[0m\u001b[1;33m(\u001b[0m\u001b[0mself\u001b[0m\u001b[1;33m)\u001b[0m\u001b[1;33m:\u001b[0m\u001b[1;33m\u001b[0m\u001b[1;33m\u001b[0m\u001b[0m\n",
      "\u001b[1;32m~\\anaconda3\\lib\\site-packages\\pandas\\core\\apply.py\u001b[0m in \u001b[0;36mapply_standard\u001b[1;34m(self)\u001b[0m\n\u001b[0;32m   1093\u001b[0m                     \u001b[0mvalues\u001b[0m\u001b[1;33m,\u001b[0m\u001b[1;33m\u001b[0m\u001b[1;33m\u001b[0m\u001b[0m\n\u001b[0;32m   1094\u001b[0m                     \u001b[0mf\u001b[0m\u001b[1;33m,\u001b[0m  \u001b[1;31m# type: ignore[arg-type]\u001b[0m\u001b[1;33m\u001b[0m\u001b[1;33m\u001b[0m\u001b[0m\n\u001b[1;32m-> 1095\u001b[1;33m                     \u001b[0mconvert\u001b[0m\u001b[1;33m=\u001b[0m\u001b[0mself\u001b[0m\u001b[1;33m.\u001b[0m\u001b[0mconvert_dtype\u001b[0m\u001b[1;33m,\u001b[0m\u001b[1;33m\u001b[0m\u001b[1;33m\u001b[0m\u001b[0m\n\u001b[0m\u001b[0;32m   1096\u001b[0m                 )\n\u001b[0;32m   1097\u001b[0m \u001b[1;33m\u001b[0m\u001b[0m\n",
      "\u001b[1;32m~\\anaconda3\\lib\\site-packages\\pandas\\_libs\\lib.pyx\u001b[0m in \u001b[0;36mpandas._libs.lib.map_infer\u001b[1;34m()\u001b[0m\n",
      "\u001b[1;31mTypeError\u001b[0m: 'int' object is not callable"
     ]
    }
   ],
   "source": [
    "df_enthalpy['TE']=df_enthalpy['TE'].apply(round(1))\n",
    "df_enthalpy"
   ]
  },
  {
   "cell_type": "code",
   "execution_count": null,
   "id": "7eb6d074",
   "metadata": {},
   "outputs": [],
   "source": []
  }
 ],
 "metadata": {
  "kernelspec": {
   "display_name": "Python 3",
   "language": "python",
   "name": "python3"
  },
  "language_info": {
   "codemirror_mode": {
    "name": "ipython",
    "version": 3
   },
   "file_extension": ".py",
   "mimetype": "text/x-python",
   "name": "python",
   "nbconvert_exporter": "python",
   "pygments_lexer": "ipython3",
   "version": "3.7.6"
  },
  "toc": {
   "base_numbering": 1,
   "nav_menu": {},
   "number_sections": true,
   "sideBar": true,
   "skip_h1_title": true,
   "title_cell": "Table of Contents",
   "title_sidebar": "Contents",
   "toc_cell": false,
   "toc_position": {
    "height": "calc(100% - 180px)",
    "left": "10px",
    "top": "150px",
    "width": "265.097px"
   },
   "toc_section_display": true,
   "toc_window_display": false
  }
 },
 "nbformat": 4,
 "nbformat_minor": 5
}
